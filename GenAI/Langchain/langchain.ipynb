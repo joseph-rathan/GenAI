{
 "cells": [
  {
   "cell_type": "code",
   "execution_count": 5,
   "metadata": {},
   "outputs": [],
   "source": [
    "import google.generativeai as genai\n",
    "from langchain_google_genai import ChatGoogleGenerativeAI\n",
    "import os\n",
    "from dotenv import load_dotenv\n",
    "from langchain.prompts import PromptTemplate\n",
    "from langchain.chains.question_answering import load_qa_chain\n",
    "from langchain.schema import StrOutputParser\n",
    "load_dotenv()\n",
    "genai.configure(api_key=os.getenv(\"GOOGLE_API_KEY\"))"
   ]
  },
  {
   "cell_type": "code",
   "execution_count": null,
   "metadata": {},
   "outputs": [
    {
     "name": "stdout",
     "output_type": "stream",
     "text": [
      "Rome\n",
      "\n"
     ]
    }
   ],
   "source": [
    "prompt_template = \"\"\"\n",
    "   You are a helpful assistant.\n",
    "  The user asked this question: \"{text}\"\n",
    "  Answer:\n",
    "\"\"\"\n",
    "\n",
    "model= ChatGoogleGenerativeAI(model=\"gemini-1.5-flash\", temperature=0.7)\n",
    "prompt = PromptTemplate(template=prompt_template, input_variables=[\"context\", \"question\"])\n",
    "chain = prompt | model | StrOutputParser()\n",
    "\n",
    "\n",
    "print(chain.invoke(\"What is the capital of Italy?\"))"
   ]
  },
  {
   "cell_type": "code",
   "execution_count": 26,
   "metadata": {},
   "outputs": [
    {
     "name": "stdout",
     "output_type": "stream",
     "text": [
      "Paris offers a wealth of attractions! To give you the best recommendations, I need a little more information about your interests.  However, here are some must-see places categorized to help you choose:\n",
      "\n",
      "**Iconic Landmarks:**\n",
      "\n",
      "* **Eiffel Tower:**  The quintessential Paris experience.  Pre-book tickets to avoid long queues.\n",
      "* **Arc de Triomphe:** Climb to the top for panoramic city views.\n",
      "* **Notre Dame Cathedral:** While still under reconstruction after the fire, it's still a powerful sight.  Check for access information before visiting.\n",
      "* **Sacré-Cœur Basilica:**  Located in Montmartre, this stunning white basilica offers breathtaking views.\n",
      "* **Louvre Museum:** Home to the Mona Lisa and countless other masterpieces.  Allow ample time for a visit.\n",
      "\n",
      "**Museums & Art:**\n",
      "\n",
      "* **Musée d'Orsay:**  Housed in a former train station, showcasing Impressionist and Post-Impressionist art.\n",
      "* **Centre Pompidou:** Modern and contemporary art museum with a distinctive architectural style.\n",
      "* **Musée Rodin:**  Dedicated to the works of the famous sculptor.\n",
      "* **Musée Picasso:**  A comprehensive collection of Picasso's works.\n",
      "\n",
      "**Neighborhoods & Experiences:**\n",
      "\n",
      "* **Montmartre:**  A charming hilltop neighborhood with artists, cafes, and the Sacré-Cœur Basilica.\n",
      "* **Le Marais:**  A historic district with trendy boutiques, art galleries, and falafel shops.\n",
      "* **Latin Quarter:**  A student-filled area with bookstores, cafes, and the Sorbonne University.\n",
      "* **Saint-Germain-des-Prés:**  Known for its literary and intellectual history, elegant boutiques, and cafes.\n",
      "* **Canal Saint-Martin:**  A trendy area with canals, bars, and restaurants.\n",
      "\n",
      "**Other Attractions:**\n",
      "\n",
      "* **Palace of Versailles:**  A short trip outside Paris, but well worth it to see the opulent palace and gardens.\n",
      "* **Seine River Cruise:**  A relaxing way to see the city's landmarks from a different perspective.\n",
      "* **Tuileries Garden:**  A beautiful garden connecting the Louvre to Place de la Concorde.\n",
      "* **Luxembourg Gardens:**  A peaceful green space with fountains and sculptures.\n",
      "\n",
      "\n",
      "To help me narrow down the best suggestions for *you*, tell me:\n",
      "\n",
      "* **What are your interests?** (e.g., art, history, food, nightlife, shopping)\n",
      "* **How much time do you have?**\n",
      "* **What's your budget?**\n",
      "* **Who are you traveling with?** (e.g., solo, partner, family, friends)\n",
      "\n",
      "With more information, I can provide a more personalized and helpful itinerary.\n",
      "\n"
     ]
    }
   ],
   "source": [
    "prompt_Country= \"\"\"\n",
    "   You are a helpful assistant. Please tell only the capital name. \n",
    "   Since this country name is provided as input for another question.\n",
    "  What is the captial of the \"{country}\"\n",
    "  Answer:\n",
    "\"\"\"\n",
    "prompt_Cntry = PromptTemplate(template=prompt_Country, input_variables=[\"context\", \"question\"])\n",
    "capital_chain = prompt_Cntry | model | StrOutputParser()\n",
    "prompt_Captial = \"\"\"\n",
    "   You are a helpful assistant.\n",
    "  What are the places to be visited in \"{capital}\"\n",
    "  Answer:\n",
    "\"\"\"\n",
    "prompt_Ctl = PromptTemplate(template=prompt_Captial, input_variables=[\"context\", \"question\"])\n",
    "famous_chain = {\"capital\": capital_chain}| prompt_Ctl | model | StrOutputParser()\n",
    "\n",
    "print(famous_chain.invoke(\"Framce\"))\n",
    "\n"
   ]
  }
 ],
 "metadata": {
  "kernelspec": {
   "display_name": "Python 3",
   "language": "python",
   "name": "python3"
  },
  "language_info": {
   "codemirror_mode": {
    "name": "ipython",
    "version": 3
   },
   "file_extension": ".py",
   "mimetype": "text/x-python",
   "name": "python",
   "nbconvert_exporter": "python",
   "pygments_lexer": "ipython3",
   "version": "3.10.0"
  }
 },
 "nbformat": 4,
 "nbformat_minor": 2
}
